{
 "cells": [
  {
   "cell_type": "code",
   "execution_count": 1,
   "metadata": {},
   "outputs": [],
   "source": [
    "from gurobipy import GRB, Model, quicksum\n",
    "import pandas as pd"
   ]
  },
  {
   "cell_type": "code",
   "execution_count": 12,
   "metadata": {},
   "outputs": [],
   "source": [
    "model = Model()"
   ]
  },
  {
   "cell_type": "markdown",
   "metadata": {},
   "source": [
    "## Datos"
   ]
  },
  {
   "cell_type": "code",
   "execution_count": 3,
   "metadata": {},
   "outputs": [],
   "source": [
    "data = pd.read_csv('data/parametros.csv', index_col=0)"
   ]
  },
  {
   "cell_type": "markdown",
   "metadata": {},
   "source": [
    "## Parámetros"
   ]
  },
  {
   "cell_type": "code",
   "execution_count": 4,
   "metadata": {},
   "outputs": [],
   "source": [
    "dt = data['dt']"
   ]
  },
  {
   "cell_type": "markdown",
   "metadata": {},
   "source": [
    "## Variables"
   ]
  },
  {
   "cell_type": "code",
   "execution_count": 5,
   "metadata": {},
   "outputs": [],
   "source": [
    "indices_i = [i for i in range(1, 5)]\n",
    "indices_t = [i for i in range(0, 21)]\n",
    "indices_n = [i for i in range(1, 1000)]"
   ]
  },
  {
   "cell_type": "code",
   "execution_count": 6,
   "metadata": {},
   "outputs": [],
   "source": [
    "# X_i_t = Cantidad de plantas de tecnologıa i, en periodo t\n",
    "# Y_i_t = Cantidad de plantas de tecnologıa i activas en periodo t\n",
    "# I_i_t_n = 1 si planta n, de tecnologıa i, esta prendida en periodo t, 0 en otro caso\n",
    "# Z_i_t_n = 1 si planta n de tipo i pasa de estar apagada en (t-1) a prendida en t, 0 en otro caso\n",
    "\n",
    "X = {}\n",
    "Y = {}\n",
    "I = {}\n",
    "Z = {}\n",
    "for i in indices_i:\n",
    "    for t in indices_t:\n",
    "        X[(i, t)] = model.addVar(vtype=GRB.CONTINUOUS, name=f\"x_{i}_{t}\")\n",
    "        Y[(i, t)] = model.addVar(vtype=GRB.CONTINUOUS, name=f\"y_{i}_{t}\")\n",
    "    \n",
    "        for n in indices_n:\n",
    "            I[(i, t, n)] = model.addVar(vtype=GRB.BINARY, name=f\"I_{i}_{t}_{n}\")\n",
    "            Z[(i, t, n)] = model.addVar(vtype=GRB.BINARY, name=f\"z_{i}_{t}_{n}\")\n",
    "\n",
    "model.update()"
   ]
  },
  {
   "cell_type": "markdown",
   "metadata": {},
   "source": [
    "## Restricciones"
   ]
  },
  {
   "cell_type": "code",
   "execution_count": 10,
   "metadata": {},
   "outputs": [],
   "source": [
    "# R1\n",
    "model.addConstrs((X[(i, t)] >= Y[(i, t)] for i in indices_i for t in indices_t), name=\"R1\");"
   ]
  },
  {
   "cell_type": "code",
   "execution_count": 11,
   "metadata": {},
   "outputs": [],
   "source": [
    "# R2\n",
    "model.addConstrs((quicksum(I[(i, t, n)] for n in indices_n) == Y[(i, t)] for i in indices_i for t in indices_t), name=\"R2\");"
   ]
  },
  {
   "cell_type": "markdown",
   "metadata": {},
   "source": [
    "## Función objetivo"
   ]
  },
  {
   "cell_type": "code",
   "execution_count": 9,
   "metadata": {},
   "outputs": [
    {
     "ename": "TypeError",
     "evalue": "setObjective() takes at least 2 positional arguments (1 given)",
     "output_type": "error",
     "traceback": [
      "\u001b[1;31m---------------------------------------------------------------------------\u001b[0m",
      "\u001b[1;31mTypeError\u001b[0m                                 Traceback (most recent call last)",
      "Cell \u001b[1;32mIn [9], line 1\u001b[0m\n\u001b[1;32m----> 1\u001b[0m \u001b[43mmodel\u001b[49m\u001b[38;5;241;43m.\u001b[39;49m\u001b[43msetObjective\u001b[49m\u001b[43m(\u001b[49m\u001b[43m)\u001b[49m\n\u001b[0;32m      2\u001b[0m model\u001b[38;5;241m.\u001b[39moptimize()\n",
      "File \u001b[1;32msrc\\gurobipy\\model.pxi:1388\u001b[0m, in \u001b[0;36mgurobipy.Model.setObjective\u001b[1;34m()\u001b[0m\n",
      "\u001b[1;31mTypeError\u001b[0m: setObjective() takes at least 2 positional arguments (1 given)"
     ]
    }
   ],
   "source": [
    "model.setObjective()\n",
    "model.optimize()"
   ]
  },
  {
   "cell_type": "code",
   "execution_count": null,
   "metadata": {},
   "outputs": [],
   "source": [
    "obj_val = model.objVal"
   ]
  }
 ],
 "metadata": {
  "kernelspec": {
   "display_name": "Python 3",
   "language": "python",
   "name": "python3"
  },
  "language_info": {
   "codemirror_mode": {
    "name": "ipython",
    "version": 3
   },
   "file_extension": ".py",
   "mimetype": "text/x-python",
   "name": "python",
   "nbconvert_exporter": "python",
   "pygments_lexer": "ipython3",
   "version": "3.10.5"
  }
 },
 "nbformat": 4,
 "nbformat_minor": 2
}
