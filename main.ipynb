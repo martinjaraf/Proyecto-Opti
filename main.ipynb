{
 "cells": [
  {
   "cell_type": "code",
   "execution_count": 1,
   "metadata": {},
   "outputs": [],
   "source": [
    "from gurobipy import GRB, Model, quicksum\n",
    "import pandas as pd"
   ]
  },
  {
   "cell_type": "code",
   "execution_count": 3,
   "metadata": {},
   "outputs": [],
   "source": [
    "# Leer datos"
   ]
  },
  {
   "cell_type": "code",
   "execution_count": 2,
   "metadata": {},
   "outputs": [
    {
     "name": "stdout",
     "output_type": "stream",
     "text": [
      "Set parameter Username\n",
      "Academic license - for non-commercial use only - expires 2025-04-09\n"
     ]
    }
   ],
   "source": [
    "# Se crea el modelo\n",
    "model = Model()"
   ]
  },
  {
   "cell_type": "code",
   "execution_count": null,
   "metadata": {},
   "outputs": [],
   "source": [
    "# Se crea la variable de decisión x_j siendo j un cereal y luego se actualiza el modelo para agregarla\n",
    "x = model.addVars(cereales, vtype=GRB.CONTINUOUS, name=\"x_j\")\n",
    "model.update()"
   ]
  },
  {
   "cell_type": "code",
   "execution_count": null,
   "metadata": {},
   "outputs": [],
   "source": [
    "# Definimos los cereales y nutrientes dependiendo del largo de los dataframes respectivos\n",
    "cereales = range(df_nutricionales.shape[1])\n",
    "nutrientes = range(df_nutricionales.shape[0])"
   ]
  },
  {
   "cell_type": "code",
   "execution_count": null,
   "metadata": {},
   "outputs": [],
   "source": [
    "# Se agregan las respectivas restricciones al modelo:\n",
    "## r1: Mezcla compuesta únicamente por cereales\n",
    "model.addConstr((quicksum(x[j] for j in cereales)==1), name = \"r1\")\n",
    "## r2: Se debe cumplir la proporción mínima de nutrientes\n",
    "model.addConstrs((quicksum(x[j]*df_nutricionales.iloc[i][j] for j in cereales) >= limites_inferiores[i] for i in nutrientes), name = \"r2\")\n",
    "## r3: Se debe cumplir la proporción máxima de nutrientes\n",
    "model.addConstrs((quicksum(x[j]*df_nutricionales.iloc[i][j] for j in cereales) <= limites_superiores[i] for i in nutrientes), name = \"r3\")\n",
    "## r4: Naturaleza de las variables\n",
    "model.addConstrs((x[j] >= 0 for j in cereales), name = \"r4\")\n"
   ]
  },
  {
   "cell_type": "code",
   "execution_count": null,
   "metadata": {},
   "outputs": [],
   "source": [
    "# Se define la función objetivo\n",
    "model.setObjective(quicksum(x[j]*costos[j] for j in cereales), GRB.MINIMIZE)\n",
    "\n",
    "# Se optimiza el modelo\n",
    "model.optimize()"
   ]
  },
  {
   "cell_type": "code",
   "execution_count": null,
   "metadata": {},
   "outputs": [],
   "source": [
    "# Se obtiene e imprimime el valor objetivo\n",
    "obj_val = model.objVal"
   ]
  }
 ],
 "metadata": {
  "kernelspec": {
   "display_name": "Python 3",
   "language": "python",
   "name": "python3"
  },
  "language_info": {
   "codemirror_mode": {
    "name": "ipython",
    "version": 3
   },
   "file_extension": ".py",
   "mimetype": "text/x-python",
   "name": "python",
   "nbconvert_exporter": "python",
   "pygments_lexer": "ipython3",
   "version": "3.10.5"
  }
 },
 "nbformat": 4,
 "nbformat_minor": 2
}
