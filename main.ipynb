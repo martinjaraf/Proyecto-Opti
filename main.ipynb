{
 "cells": [
  {
   "cell_type": "code",
   "execution_count": 7,
   "metadata": {},
   "outputs": [],
   "source": [
    "from gurobipy import GRB, Model, quicksum\n",
    "import pandas as pd"
   ]
  },
  {
   "cell_type": "markdown",
   "metadata": {},
   "source": [
    "## Modelo"
   ]
  },
  {
   "cell_type": "code",
   "execution_count": 8,
   "metadata": {},
   "outputs": [
    {
     "name": "stdout",
     "output_type": "stream",
     "text": [
      "Set parameter Username\n",
      "Academic license - for non-commercial use only - expires 2025-04-09\n"
     ]
    }
   ],
   "source": [
    "model = Model()"
   ]
  },
  {
   "cell_type": "markdown",
   "metadata": {},
   "source": [
    "## Datos"
   ]
  },
  {
   "cell_type": "code",
   "execution_count": 9,
   "metadata": {},
   "outputs": [],
   "source": [
    "parametros = pd.read_csv('data/parametros.csv', delimiter=';')\n",
    "parametros_t = pd.read_csv('data/parametros_t.csv', index_col=0, delimiter=';')\n",
    "parametros_i = pd.read_csv('data/parametros_i.csv', index_col=0, delimiter=';')\n",
    "parametros_qit = pd.read_csv('data/parametros_qit.csv', index_col=0, delimiter=';')\n",
    "parametros_pit = pd.read_csv('data/parametros_pit.csv', index_col=0, delimiter=';')"
   ]
  },
  {
   "cell_type": "markdown",
   "metadata": {},
   "source": [
    "## Parámetros"
   ]
  },
  {
   "cell_type": "code",
   "execution_count": 10,
   "metadata": {},
   "outputs": [],
   "source": [
    "c = parametros['c'][0]\n",
    "b = parametros['b'][0]"
   ]
  },
  {
   "cell_type": "code",
   "execution_count": 11,
   "metadata": {},
   "outputs": [],
   "source": [
    "d_t = parametros_t['dt'].tolist()\n",
    "l_t = parametros_t['lt'].tolist()"
   ]
  },
  {
   "cell_type": "code",
   "execution_count": 12,
   "metadata": {},
   "outputs": [],
   "source": [
    "Smax_i = parametros_i['Smax_i'].tolist()\n",
    "s_i = parametros_i['s_i'].tolist()\n",
    "e_i = parametros_i['e_i'].tolist()\n",
    "f_i = parametros_i['f_i'].tolist()\n",
    "g_i = parametros_i['g_i'].tolist()\n",
    "a_i = parametros_i['a_i'].tolist()"
   ]
  },
  {
   "cell_type": "code",
   "execution_count": 13,
   "metadata": {},
   "outputs": [],
   "source": [
    "q_i_t = parametros_qit.values.tolist()\n",
    "p_i_t = parametros_pit.values.tolist()"
   ]
  },
  {
   "cell_type": "markdown",
   "metadata": {},
   "source": [
    "## Variables"
   ]
  },
  {
   "cell_type": "code",
   "execution_count": 15,
   "metadata": {},
   "outputs": [],
   "source": [
    "indices_i = [i for i in range(1, 5)]\n",
    "indices_t = [i for i in range(0, 21)]\n",
    "indices_n = [i for i in range(1, 1000)]"
   ]
  },
  {
   "cell_type": "code",
   "execution_count": 16,
   "metadata": {},
   "outputs": [],
   "source": [
    "X = {}\n",
    "Y = {}\n",
    "I = {}\n",
    "Z = {}\n",
    "for i in indices_i:\n",
    "    for t in indices_t:\n",
    "        \n",
    "        X[(i, t)] = model.addVar(vtype=GRB.INTEGER, name=f\"x_{i}_{t}\")\n",
    "        Y[(i, t)] = model.addVar(vtype=GRB.INTEGER, name=f\"y_{i}_{t}\")\n",
    "    \n",
    "        for n in indices_n:\n",
    "            I[(i, t, n)] = model.addVar(vtype=GRB.BINARY, name=f\"I_{i}_{t}_{n}\")\n",
    "            Z[(i, t, n)] = model.addVar(vtype=GRB.BINARY, name=f\"z_{i}_{t}_{n}\")\n",
    "\n",
    "model.update()"
   ]
  },
  {
   "cell_type": "markdown",
   "metadata": {},
   "source": [
    "## Restricciones"
   ]
  },
  {
   "cell_type": "code",
   "execution_count": 17,
   "metadata": {},
   "outputs": [],
   "source": [
    "# R1\n",
    "model.addConstrs((X[(i, t)] >= Y[(i, t)] for i in indices_i for t in indices_t), name=\"R1\");"
   ]
  },
  {
   "cell_type": "code",
   "execution_count": 18,
   "metadata": {},
   "outputs": [],
   "source": [
    "# R2\n",
    "model.addConstrs((quicksum(I[(i, t, n)] for n in indices_n) == Y[(i, t)] for i in indices_i for t in indices_t), name=\"R2\");"
   ]
  },
  {
   "cell_type": "code",
   "execution_count": 19,
   "metadata": {},
   "outputs": [],
   "source": [
    "# R3\n",
    "model.addConstrs((Z[(i, t, n)] + I[(i, t-1, n)] >= I[(i, t, n)] for i in indices_i for t in indices_t[1:] for n in indices_n), name=\"R3.1\");\n",
    "model.addConstrs((Z[(i, t, n)] + I[(i, t-1, n)] <= 2 - I[(i, t, n)] for i in indices_i for t in indices_t[1:] for n in indices_n), name=\"R3.2\");\n",
    "model.addConstrs((I[(i, t, n)] <= Z[(i, t, n)] for i in indices_i for t in indices_t[1:] for n in indices_n), name=\"R3.3\");"
   ]
  },
  {
   "cell_type": "code",
   "execution_count": 20,
   "metadata": {},
   "outputs": [],
   "source": [
    "# R4\n",
    "model.addConstrs((Y[(i, 0)] == g_i[i-1] for i in indices_i), name=\"R4.1\");\n",
    "model.addConstrs((X[(i, 0)] == g_i[i-1] for i in indices_i), name=\"R4.2\");"
   ]
  },
  {
   "cell_type": "code",
   "execution_count": 21,
   "metadata": {},
   "outputs": [],
   "source": [
    "# R5\n",
    "model.addConstrs((X[(1, t)] <= g_i[1-1] for t in indices_t), name=\"R5.1\");\n",
    "model.addConstrs((X[(i, t)] >= g_i[i-1] for i in indices_i[2:] for t in indices_t), name=\"R5.2\");"
   ]
  },
  {
   "cell_type": "code",
   "execution_count": 22,
   "metadata": {},
   "outputs": [],
   "source": [
    "# R6\n",
    "model.addConstrs((X[(1, t)] >= X[(1, t+1)] for t in indices_t[0:20]), name=\"R6.1\");\n",
    "model.addConstrs((X[(i, t)] <= X[(i, t+1)] for i in indices_i[2:] for t in indices_t[:20]), name=\"R6.2\");"
   ]
  },
  {
   "cell_type": "code",
   "execution_count": 23,
   "metadata": {},
   "outputs": [],
   "source": [
    "# R7\n",
    "model.addConstrs((quicksum(Y[(i, t)] for i in indices_i) >= d_t[t-1] for t in indices_t[1:]), name=\"R7\");"
   ]
  },
  {
   "cell_type": "code",
   "execution_count": 24,
   "metadata": {},
   "outputs": [],
   "source": [
    "# R8\n",
    "model.addConstrs((Y[(1, t)] * c <= l_t[1-1] for t in indices_t[1:]), name=\"R8\");"
   ]
  },
  {
   "cell_type": "code",
   "execution_count": 25,
   "metadata": {},
   "outputs": [],
   "source": [
    "# R9\n",
    "model.addConstrs((X[(i, t)] * s_i[i-1] <= Smax_i[i-1] for t in indices_t for i in indices_i), name=\"R9\");"
   ]
  },
  {
   "cell_type": "code",
   "execution_count": 26,
   "metadata": {},
   "outputs": [],
   "source": [
    "# R10\n",
    "model.addConstrs(((X[(1, t)] - Y[(1, t)])*q_i_t[1-1][t-1] + (X[(2, t)] - Y[(2, t)])*q_i_t[2-1][t-1] >= 0.5 * d_t[t-1] for t in indices_t[1:]), name=\"R10\");"
   ]
  },
  {
   "cell_type": "code",
   "execution_count": 27,
   "metadata": {},
   "outputs": [],
   "source": [
    "def Pt(t):\n",
    "    pt1 = (X[1, t - 1] - X[1, t]) * b\n",
    "    pt2 = quicksum((X[i, t] - X[1, t - 1]) * e_i[i-1] for i in indices_i[2:5])\n",
    "    pt3 = quicksum(Y[i, t] * p_i_t[i-1][t-1] for i in indices_i)\n",
    "    return pt1 + pt2 + pt3"
   ]
  },
  {
   "cell_type": "code",
   "execution_count": 28,
   "metadata": {},
   "outputs": [],
   "source": [
    "# R11\n",
    "model.addConstrs((Pt(t_1) <= 3 * Pt(t_2) for t_1 in indices_t[1:] for t_2 in indices_t[1:]), name=\"R11\");"
   ]
  },
  {
   "cell_type": "code",
   "execution_count": 29,
   "metadata": {},
   "outputs": [],
   "source": [
    "# R12\n",
    "model.addConstrs((quicksum(I[(i, t, n)] for t in indices_t[tp:tp + 9]) <= 7 for i in indices_i for n in indices_n for tp in indices_t[1:13]), name=\"R12\");"
   ]
  },
  {
   "cell_type": "code",
   "execution_count": 30,
   "metadata": {},
   "outputs": [],
   "source": [
    "# R13\n",
    "model.addConstrs((X[(i, t)] >= 0 for i in indices_i for t in indices_t), name=\"R13.1\");\n",
    "model.addConstrs((Y[(i, t)] >= 0 for i in indices_i for t in indices_t), name=\"R13.2\");"
   ]
  },
  {
   "cell_type": "markdown",
   "metadata": {},
   "source": [
    "## Función objetivo"
   ]
  },
  {
   "cell_type": "code",
   "execution_count": 31,
   "metadata": {},
   "outputs": [],
   "source": [
    "Costos_Fijos = (g_i[1-1] - X[(1, 20)]) * b + quicksum((X[(i, 20)] - g_i[i-1])*e_i[i-1] for i in indices_i[2:]) + quicksum(X[(i, t)] * f_i[i-1] for i in indices_i for t in indices_t[1:])\n",
    "Costos_Variables = quicksum(Y[(i, t)] * p_i_t[i-1][t-1] * q_i_t[i-1][t-1] for i in indices_i for t in indices_t[1:]) + quicksum(Z[(i, t, n)] * a_i[i-1] for i in indices_i for t in indices_t[1:] for n in indices_n)"
   ]
  },
  {
   "cell_type": "code",
   "execution_count": 32,
   "metadata": {},
   "outputs": [
    {
     "name": "stdout",
     "output_type": "stream",
     "text": [
      "Gurobi Optimizer version 10.0.3 build v10.0.3rc0 (win64)\n",
      "\n",
      "CPU model: Intel(R) Core(TM) i5-10210U CPU @ 1.60GHz, instruction set [SSE2|AVX|AVX2]\n",
      "Thread count: 4 physical cores, 8 logical processors, using up to 8 threads\n",
      "\n",
      "Optimize a model with 288723 rows, 168000 columns and 1161761 nonzeros\n",
      "Model fingerprint: 0xed4ef01c\n",
      "Variable types: 0 continuous, 168000 integer (167832 binary)\n",
      "Coefficient statistics:\n",
      "  Matrix range     [1e+00, 6e+01]\n",
      "  Objective range  [1e+00, 4e+02]\n",
      "  Bounds range     [1e+00, 1e+00]\n",
      "  RHS range        [2e+00, 2e+09]\n",
      "Warning: Model contains large rhs\n",
      "         Consider reformulating model or setting NumericFocus parameter\n",
      "         to avoid numerical issues.\n",
      "Presolve removed 170 rows and 3996 columns\n",
      "Presolve time: 0.08s\n",
      "\n",
      "Explored 0 nodes (0 simplex iterations) in 0.33 seconds (0.21 work units)\n",
      "Thread count was 1 (of 8 available processors)\n",
      "\n",
      "Solution count 0\n",
      "\n",
      "Model is infeasible or unbounded\n",
      "Best objective -, best bound -, gap -\n"
     ]
    }
   ],
   "source": [
    "model.setObjective(Costos_Fijos + Costos_Variables, GRB.MINIMIZE)\n",
    "model.optimize()"
   ]
  },
  {
   "cell_type": "code",
   "execution_count": 33,
   "metadata": {},
   "outputs": [],
   "source": [
    "# obj_val = model.objVal\n",
    "# print(f\"Objetivo: {obj_val}\")"
   ]
  }
 ],
 "metadata": {
  "kernelspec": {
   "display_name": "Python 3",
   "language": "python",
   "name": "python3"
  },
  "language_info": {
   "codemirror_mode": {
    "name": "ipython",
    "version": 3
   },
   "file_extension": ".py",
   "mimetype": "text/x-python",
   "name": "python",
   "nbconvert_exporter": "python",
   "pygments_lexer": "ipython3",
   "version": "3.10.5"
  }
 },
 "nbformat": 4,
 "nbformat_minor": 2
}
